{
 "cells": [
  {
   "cell_type": "markdown",
   "metadata": {},
   "source": [
    "# 第一个tensorflow程序\n",
    "\n",
    "通过一个例子，讲解tensorflow的运行方式。\n",
    "\n",
    "tensorflow的运行方式分为4步：\n",
    "\n",
    "1. 加载数据及定义超参数\n",
    "2. 构建网络\n",
    "3. 训练模型\n",
    "4. 评估模型和进行预测"
   ]
  },
  {
   "cell_type": "markdown",
   "metadata": {},
   "source": [
    "## 生成模拟数据并加载数据\n",
    "\n",
    "假设最后要学习的方程为：\n",
    "$$ y = x^2 - 0.5 $$"
   ]
  },
  {
   "cell_type": "code",
   "execution_count": 1,
   "metadata": {},
   "outputs": [],
   "source": [
    "import tensorflow as tf\n",
    "import numpy as np"
   ]
  },
  {
   "cell_type": "code",
   "execution_count": 2,
   "metadata": {},
   "outputs": [
    {
     "name": "stdout",
     "output_type": "stream",
     "text": [
      "[-1.         -0.99331104 -0.98662207 -0.97993311 -0.97324415 -0.96655518\n",
      " -0.95986622 -0.95317726 -0.94648829 -0.93979933]\n"
     ]
    }
   ],
   "source": [
    "# np.linspace用于生成等差数列，表示在[-1,1]之间生成300个数据，形成等差数列关系。\n",
    "x_data = np.linspace(-1,1,300)\n",
    "print(x_data[:10])"
   ]
  },
  {
   "cell_type": "markdown",
   "metadata": {},
   "source": [
    "【拓展】np.newaxis的作用就是在这一位置增加一个一维，这一位置指的是np.newaxis所在的位置"
   ]
  },
  {
   "cell_type": "code",
   "execution_count": 3,
   "metadata": {},
   "outputs": [
    {
     "name": "stdout",
     "output_type": "stream",
     "text": [
      "test_data2: [[1]\n",
      " [2]\n",
      " [3]\n",
      " [4]\n",
      " [5]]\n",
      "test_data3: [[1 2 3 4 5]]\n"
     ]
    }
   ],
   "source": [
    "test_data = np.array([1,2,3,4,5])\n",
    "test_data2 = test_data[:, np.newaxis] # n行，1列\n",
    "test_data3 = test_data[np.newaxis,:] # 1列，n行\n",
    "\n",
    "print(\"test_data2:\", test_data2)\n",
    "print(\"test_data3:\", test_data3)"
   ]
  },
  {
   "cell_type": "code",
   "execution_count": 4,
   "metadata": {},
   "outputs": [],
   "source": [
    "# 将x_data转换为二维数组\n",
    "x_data2 = x_data[:, np.newaxis]"
   ]
  },
  {
   "cell_type": "code",
   "execution_count": 5,
   "metadata": {},
   "outputs": [],
   "source": [
    "# 加入一些噪声点\n",
    "noise = np.random.normal(0, 0.05, x_data2.shape)"
   ]
  },
  {
   "cell_type": "code",
   "execution_count": 6,
   "metadata": {},
   "outputs": [],
   "source": [
    "# 根据公式模拟y值\n",
    "y_data = np.square(x_data2)-0.5 + noise"
   ]
  },
  {
   "cell_type": "code",
   "execution_count": 7,
   "metadata": {},
   "outputs": [],
   "source": [
    "# 定义x和y的占位符\n",
    "xs = tf.placeholder(tf.float32, [None, 1])\n",
    "ys = tf.placeholder(tf.float32, [None,1])"
   ]
  },
  {
   "cell_type": "markdown",
   "metadata": {},
   "source": [
    "## 构建网络模型\n",
    "\n",
    "输入层、1个隐层、输出层"
   ]
  },
  {
   "cell_type": "code",
   "execution_count": 8,
   "metadata": {},
   "outputs": [],
   "source": [
    "def add_layer(input, in_size, out_size, activation_function=None):\n",
    "    \"\"\"\n",
    "    参数1:输入数据\n",
    "    参数2:输入数据维度\n",
    "    参数3:输出数据维度\n",
    "    参数4:激活函数\n",
    "    \"\"\"\n",
    "    # 构建权重\n",
    "    weights = tf.Variable(tf.random.normal([in_size, out_size]))\n",
    "    # 构建偏置\n",
    "    biases = tf.Variable(tf.random.normal([1, out_size]) + 0.1)\n",
    "    # 矩阵相乘\n",
    "    Wx_plus_b = tf.matmul(input, weights) + biases\n",
    "    \n",
    "    if activation_function is None:\n",
    "        outputs = Wx_plus_b\n",
    "    else:\n",
    "        outputs = activation_function(Wx_plus_b)\n",
    "    return outputs"
   ]
  },
  {
   "cell_type": "code",
   "execution_count": 9,
   "metadata": {},
   "outputs": [
    {
     "name": "stdout",
     "output_type": "stream",
     "text": [
      "WARNING:tensorflow:From /Users/zhusheng/anaconda3/lib/python3.7/site-packages/tensorflow/python/framework/op_def_library.py:263: colocate_with (from tensorflow.python.framework.ops) is deprecated and will be removed in a future version.\n",
      "Instructions for updating:\n",
      "Colocations handled automatically by placer.\n"
     ]
    }
   ],
   "source": [
    "# 假设输入层有1个神经元、隐层有20个神经元、输出层有1个神经元\n",
    "# 隐层\n",
    "h1 = add_layer(xs, 1,20, activation_function=tf.nn.relu)\n",
    "# 输出层\n",
    "prediction = add_layer(h1, 20, 1, activation_function=None)"
   ]
  },
  {
   "cell_type": "code",
   "execution_count": 10,
   "metadata": {},
   "outputs": [
    {
     "name": "stdout",
     "output_type": "stream",
     "text": [
      "WARNING:tensorflow:From /Users/zhusheng/anaconda3/lib/python3.7/site-packages/tensorflow/python/ops/math_ops.py:3066: to_int32 (from tensorflow.python.ops.math_ops) is deprecated and will be removed in a future version.\n",
      "Instructions for updating:\n",
      "Use tf.cast instead.\n"
     ]
    }
   ],
   "source": [
    "# 构建损失函数并使用梯度下降法优化损失。\n",
    "\n",
    "# 损失函数\n",
    "# reduction_indices[1]：按行求和, reduction_indices[0]：按列求和\n",
    "var = tf.reduce_sum(tf.square(ys - prediction), reduction_indices=[1])\n",
    "loss = tf.reduce_mean(var)\n",
    "\n",
    "# 梯度下降\n",
    "train_step = tf.train.GradientDescentOptimizer(0.1).minimize(loss)"
   ]
  },
  {
   "cell_type": "markdown",
   "metadata": {},
   "source": [
    "## 训练模型"
   ]
  },
  {
   "cell_type": "code",
   "execution_count": 16,
   "metadata": {},
   "outputs": [
    {
     "name": "stdout",
     "output_type": "stream",
     "text": [
      "loss: 97.30593\n",
      "loss: 0.09246335\n",
      "loss: 0.092463344\n",
      "loss: 0.092463344\n",
      "loss: 0.092463344\n",
      "loss: 0.092463344\n",
      "loss: 0.092463344\n",
      "loss: 0.092463344\n",
      "loss: 0.092463344\n",
      "loss: 0.092463344\n",
      "loss: 0.092463344\n",
      "loss: 0.092463344\n",
      "loss: 0.092463344\n",
      "loss: 0.092463344\n",
      "loss: 0.092463344\n",
      "loss: 0.092463344\n",
      "loss: 0.092463344\n",
      "loss: 0.092463344\n",
      "loss: 0.092463344\n",
      "loss: 0.092463344\n"
     ]
    }
   ],
   "source": [
    "# 初始化所有变量\n",
    "init = tf.global_variables_initializer()\n",
    "sess = tf.Session()\n",
    "sess.run(init)\n",
    "\n",
    "for i in range(1000):\n",
    "    sess.run(train_step, feed_dict={xs:x_data2, ys:y_data})\n",
    "    if i % 50 == 0:\n",
    "        print(\"loss:\", sess.run(loss,feed_dict={xs:x_data2, ys:y_data}))"
   ]
  },
  {
   "cell_type": "code",
   "execution_count": null,
   "metadata": {},
   "outputs": [],
   "source": []
  }
 ],
 "metadata": {
  "kernelspec": {
   "display_name": "Python 3",
   "language": "python",
   "name": "python3"
  },
  "language_info": {
   "codemirror_mode": {
    "name": "ipython",
    "version": 3
   },
   "file_extension": ".py",
   "mimetype": "text/x-python",
   "name": "python",
   "nbconvert_exporter": "python",
   "pygments_lexer": "ipython3",
   "version": "3.7.3"
  }
 },
 "nbformat": 4,
 "nbformat_minor": 2
}
